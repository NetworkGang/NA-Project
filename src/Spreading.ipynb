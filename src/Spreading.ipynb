{
 "cells": [
  {
   "cell_type": "markdown",
   "metadata": {},
   "source": [
    "### Install & import dependencies"
   ]
  },
  {
   "cell_type": "code",
   "execution_count": null,
   "metadata": {},
   "outputs": [],
   "source": [
    "%pip install ndlib --quiet"
   ]
  },
  {
   "cell_type": "code",
   "execution_count": null,
   "metadata": {},
   "outputs": [],
   "source": [
    "import networkx as nx\n",
    "import ndlib.models.ModelConfig as mc\n",
    "from custommodels.CascadeModel import CascadeModel\n",
    "import random\n",
    "import matplotlib.pyplot as plt\n"
   ]
  },
  {
   "cell_type": "markdown",
   "metadata": {},
   "source": [
    "### Load data"
   ]
  },
  {
   "cell_type": "code",
   "execution_count": null,
   "metadata": {},
   "outputs": [],
   "source": [
    "path = \"../data/loc-brightkite_edges.txt.gz\"\n",
    "G = nx.read_edgelist(path, create_using=nx.Graph(), nodetype=int)"
   ]
  },
  {
   "cell_type": "markdown",
   "metadata": {},
   "source": [
    "### Threshold\n",
    "Setup"
   ]
  },
  {
   "cell_type": "code",
   "execution_count": null,
   "metadata": {},
   "outputs": [],
   "source": [
    "model = CascadeModel(G)\n",
    "\n",
    "config = mc.Configuration()\n",
    "# How many nodes to infect initially\n",
    "# you can also set individual nodes to be infected by adding a node configuration\n",
    "# See https://ndlib.readthedocs.io/en/latest/reference/models/epidemics/Threshold.html#parameters\n",
    "config.add_model_parameter('fraction_infected', 0.1)\n",
    "\n",
    "# Define the recovery probability\n",
    "\n",
    "recover_probability = 0.4\n",
    "threshold = 0.25\n",
    "for n in G.nodes():\n",
    "    config.add_node_configuration(\"threshold\", n, threshold)\n",
    "    config.add_node_configuration(\"recover_probability\", n, recover_probability)\n",
    "\n",
    "model.set_initial_status(config)"
   ]
  },
  {
   "cell_type": "markdown",
   "metadata": {},
   "source": [
    "Simulation"
   ]
  },
  {
   "cell_type": "code",
   "execution_count": null,
   "metadata": {},
   "outputs": [],
   "source": [
    "# Simulation loop\n",
    "iterations = 100\n",
    "results = []\n",
    "for _ in range(iterations):\n",
    "    iteration_result = model.iteration()\n",
    "    results.append(iteration_result)"
   ]
  },
  {
   "cell_type": "code",
   "execution_count": null,
   "metadata": {},
   "outputs": [],
   "source": [
    "for i in range(len(results)):\n",
    "    it = results[i]\n",
    "    print(it)"
   ]
  },
  {
   "cell_type": "code",
   "execution_count": null,
   "metadata": {},
   "outputs": [],
   "source": [
    "infected = []\n",
    "removed = []\n",
    "\n",
    "for i in range(len(results)):\n",
    "    it = results[i]\n",
    "    n_infected = sum(x == 1 for x in it[\"status\"].values())\n",
    "    infected.append(n_infected/len(G.nodes()))\n",
    "    n_removed = sum(x == 2 for x in it[\"status\"].values())\n",
    "    removed.append(n_removed/len(G.nodes()))\n",
    "plt.plot(infected)\n",
    "plt.plot(removed,color=\"red\")"
   ]
  }
 ],
 "metadata": {
  "kernelspec": {
   "display_name": "Python 3 (ipykernel)",
   "language": "python",
   "name": "python3"
  },
  "language_info": {
   "codemirror_mode": {
    "name": "ipython",
    "version": 3
   },
   "file_extension": ".py",
   "mimetype": "text/x-python",
   "name": "python",
   "nbconvert_exporter": "python",
   "pygments_lexer": "ipython3",
   "version": "3.11.2"
  }
 },
 "nbformat": 4,
 "nbformat_minor": 4
}
