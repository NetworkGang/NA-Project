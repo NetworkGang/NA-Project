{
 "cells": [
  {
   "cell_type": "code",
   "execution_count": null,
   "metadata": {},
   "outputs": [],
   "source": [
    "%pip install -q -U pip\n",
    "%pip install -q -U networkx\n",
    "%pip install -q -U matplotlib\n",
    "%pip install -q -U numpy"
   ]
  },
  {
   "cell_type": "code",
   "execution_count": null,
   "metadata": {},
   "outputs": [],
   "source": [
    "from collections import Counter\n",
    "import networkx as nx\n",
    "import matplotlib.pyplot as plt\n",
    "import collections\n",
    "import numpy as np\n",
    "\n",
    "from custommodels.Pickle import pickle"
   ]
  },
  {
   "cell_type": "code",
   "execution_count": null,
   "metadata": {},
   "outputs": [],
   "source": [
    "#import data from file\n",
    "plot_path = \"../data/plots/\"\n",
    "path = \"../data/loc-brightkite_edges.txt.gz\"\n",
    "G = nx.read_edgelist(path, create_using=nx.Graph(), nodetype=int)\n",
    "len(G.nodes()), len(G.edges())\n",
    "\n",
    "#for plots\n",
    "green = '#94bc24'\n",
    "navy = '#243444'"
   ]
  },
  {
   "cell_type": "markdown",
   "metadata": {},
   "source": [
    "# Get largest component"
   ]
  },
  {
   "cell_type": "code",
   "execution_count": null,
   "metadata": {},
   "outputs": [],
   "source": [
    "largest_cc = max(nx.connected_components(G), key=len)\n",
    "len(largest_cc)\n",
    "G = G.subgraph(largest_cc)"
   ]
  },
  {
   "cell_type": "code",
   "execution_count": null,
   "metadata": {},
   "outputs": [],
   "source": [
    "print(\"Number of edges:\", len(nx.edges(G)))\n",
    "print(\"Number of nodes\", len(nx.nodes(G)))\n",
    "print(\"The average clustering coefficient for the network:\", nx.average_clustering(G))\n",
    "#print(\"The clustering coefficient for nodes\", nx.clustering(G))\n",
    "print(\"The maximum degree of the network:\", max(dict(G.degree()).values()))"
   ]
  },
  {
   "cell_type": "code",
   "execution_count": null,
   "metadata": {},
   "outputs": [],
   "source": [
    "# Calculate the degrees of all nodes and store them in a list\n",
    "degrees = [degree for node, degree in G.degree()]\n",
    "\n",
    "# Count the frequency of each degree value\n",
    "degree_count = Counter(degrees)\n",
    "degree, frequency = zip(*degree_count.items())\n",
    "\n",
    "\n",
    "\n",
    "# Create a scatter plot of degrees (log-log scale)\n",
    "plt.scatter(degree, frequency, c=green, edgecolors = navy)\n",
    "\n",
    "# Set the x and y axis to log scale\n",
    "plt.xscale('log')\n",
    "plt.yscale('log')\n",
    "\n",
    "# Add labels and title\n",
    "plt.xlabel('Degree')\n",
    "plt.ylabel('Frequency')\n",
    "plt.title('Degree Distribution on Log-Log Scale')\n",
    "\n",
    "# save the plot\n",
    "plt.savefig(plot_path + 'degree_distribution.png')\n",
    "# Show the plot\n",
    "plt.show()"
   ]
  },
  {
   "cell_type": "markdown",
   "metadata": {},
   "source": [
    "Power law\n"
   ]
  },
  {
   "cell_type": "code",
   "execution_count": null,
   "metadata": {},
   "outputs": [],
   "source": [
    "%pip install -q -U powerlaw"
   ]
  },
  {
   "cell_type": "code",
   "execution_count": null,
   "metadata": {},
   "outputs": [],
   "source": [
    "degree_sequence = sorted([d for n, d in G.degree()], reverse=True)\n",
    "\n",
    "import powerlaw # Power laws are probability distributions with the form:p(x)∝x−α\n",
    "fit = powerlaw.Fit(degree_sequence) \n",
    "fig2 = fit.plot_pdf(color= navy, linewidth=4)\n",
    "fit.power_law.plot_pdf(color = green, ax=fig2)\n",
    "plt.title('Power Law test')\n",
    "print(fit.power_law.alpha)\n",
    "plt.savefig(plot_path + 'power_law_test.png')\n",
    "R, p = fit.distribution_compare('power_law', 'exponential')\n",
    "print(R, p)\n",
    "print(degree_sequence)"
   ]
  },
  {
   "cell_type": "markdown",
   "metadata": {},
   "source": [
    "CCDF log log scale\n"
   ]
  },
  {
   "cell_type": "code",
   "execution_count": null,
   "metadata": {},
   "outputs": [],
   "source": [
    "# finding the degree CCDF \n",
    "def degree_ccdf(graph):\n",
    "    degree_sequence = sorted([d for n, d in graph.degree()], reverse=True)\n",
    "    degree_count = collections.Counter(degree_sequence)\n",
    "    degree, count = zip(*degree_count.items())\n",
    "    ccdf = 1 - np.cumsum(count[::-1])[::-1]/graph.number_of_nodes()\n",
    "    return degree, ccdf\n",
    "\n",
    "# plotting the ccdf for the true graph and the random graph \n",
    "degree_G, ccdf_G  = degree_ccdf(G)\n",
    "plt.figure(figsize=(8, 6))\n",
    "plt.loglog(degree_G, ccdf_G, marker='o', linestyle='None',  c='#94bc24', mec = '#223747')\n",
    "plt.title('Degree CCDF in Log-Log Scale')\n",
    "plt.xlabel('Degree')\n",
    "plt.ylabel('CCDF')\n",
    "plt.savefig(plot_path + 'ccdf.png')\n",
    "plt.show()\n"
   ]
  },
  {
   "cell_type": "code",
   "execution_count": null,
   "metadata": {},
   "outputs": [],
   "source": [
    "import numpy as np\n",
    "import pandas as pd\n",
    "import networkx as nx\n",
    "import powerlaw as pl\n",
    "from collections import Counter\n",
    "import matplotlib.pyplot as plt\n",
    "from scipy.stats import linregress\n",
    "# Load the data and redo the CCDF.\n",
    "#G = nx.read_edgelist(\"../4/data.txt\", delimiter = \"\\t\")\n",
    "dd = Counter(dict(G.degree).values())\n",
    "dd = pd.DataFrame(list(dd.items()), columns = (\"k\", \"count\")).sort_values(by = \"k\")\n",
    "ccdf = dd.sort_values(by = \"k\", ascending = False)\n",
    "ccdf[\"cumsum\"] = ccdf[\"count\"].cumsum()\n",
    "ccdf[\"ccdf\"] = ccdf[\"cumsum\"] / ccdf[\"count\"].sum()\n",
    "ccdf = ccdf[[\"k\", \"ccdf\"]].sort_values(by = \"k\")\n",
    "# We take the logarithm in base 10 of both degree and CCDF. Then we simply do a linear regression. The slope is\n",
    "# the exponent. The intercept needs to be the power of 10, to undo the logarithm operation. Look at that\n",
    "# r-squared!\n",
    "logcdf = np.log10(ccdf[[\"k\", \"ccdf\"]])\n",
    "slope, log10intercept, r_value, p_value, std_err = linregress(logcdf[\"k\"], logcdf[\"ccdf\"])\n",
    "#print(\"CCDF Fit: %1.4f x ^ %1.4f (R2 = %1.4f, p = %1.4f)\" % (10 ** log10intercept, slope, r_value ** 2, p_value))\n",
    "\n",
    "# With the powerlaw package, fitting the CCDf is simple. It will store results in the .power_law property. To\n",
    "# get the actual k_min, we need to find the degree value corresponding to the probability in .power_law.xmin:\n",
    "# pandas makes it easy. This is definitely a shifted power law. (Kappa contains the intercept information)\n",
    "results = pl.Fit(ccdf[\"ccdf\"])\n",
    "k_min = ccdf[ccdf[\"ccdf\"] == results.power_law.xmin][\"k\"]\n",
    "#print(\"Powerlaw CCDF Fit: %1.4f x ^ -%1.4f (k_min = %d)\" % (10 ** results.power_law.Kappa, results.power_law.alpha, k_min))\n",
    "\n",
    "# Let's plot the best fit.\n",
    "ccdf[\"fit\"] = (10 ** results.power_law.Kappa) * (ccdf[\"k\"] ** -results.power_law.alpha)\n",
    "ax = plt.gca()\n",
    "plt.loglog(degree_G, ccdf_G, marker='o', linestyle='None',  c='#94bc24', mec = '#223747')\n",
    "#ccdf.plot(y = \"ccdf\",marker='o', linestyle='None',  c='#94bc24', mec = '#223747', loglog = True, ax = ax)\n",
    "ccdf.plot(kind = \"line\", x = \"k\", y = 'fit', color = '#223747', loglog = True, ax = ax)\n",
    "ax.legend().set_visible(False) \n",
    "plt.title('Degree CCDF in Log-Log Scale')\n",
    "plt.xlabel('Degree')\n",
    "plt.ylabel('CCDF')\n",
    "plt.savefig(plot_path + 'ccdf+line.png')"
   ]
  },
  {
   "cell_type": "markdown",
   "metadata": {},
   "source": [
    "Density"
   ]
  },
  {
   "cell_type": "code",
   "execution_count": null,
   "metadata": {},
   "outputs": [],
   "source": [
    "density = nx.density(G)\n",
    "density"
   ]
  },
  {
   "cell_type": "markdown",
   "metadata": {},
   "source": [
    "Local clustering coefficient"
   ]
  },
  {
   "cell_type": "code",
   "execution_count": null,
   "metadata": {},
   "outputs": [],
   "source": [
    "def clusters():\n",
    "    clusters = nx.clustering(G)\n",
    "    return clusters\n",
    "\n",
    "clusters = pickle(clusters)\n",
    "sorted_clusters = sorted(clusters.items(), key=lambda item: item[1], reverse = True)\n"
   ]
  },
  {
   "cell_type": "code",
   "execution_count": null,
   "metadata": {},
   "outputs": [],
   "source": [
    "min(clusters.values()) , max(clusters.values())\n",
    "# (0,1.0) \n",
    "plt.hist(clusters.values(), color = green)\n",
    "plt.title('Clustering coefficient distribution')\n",
    "plt.savefig(plot_path + 'clusters.png')\n",
    "plt.show()\n",
    "# most nodes have lower clustering coefficients but some also have very high clustering coefficient "
   ]
  },
  {
   "cell_type": "code",
   "execution_count": null,
   "metadata": {},
   "outputs": [],
   "source": [
    "avg_LCC = sum(clusters.values())/len(clusters.values())\n",
    "avg_LCC"
   ]
  },
  {
   "cell_type": "code",
   "execution_count": null,
   "metadata": {},
   "outputs": [],
   "source": [
    "# Transitivity = global clustering coefficient\n",
    "transitivity = nx.transitivity(G)\n",
    "transitivity"
   ]
  },
  {
   "cell_type": "markdown",
   "metadata": {},
   "source": [
    "Diameter"
   ]
  },
  {
   "cell_type": "code",
   "execution_count": null,
   "metadata": {},
   "outputs": [],
   "source": [
    "def diameter():\n",
    "    diameter = nx.diameter(G)\n",
    "    return diameter\n",
    "\n",
    "diameter = pickle(diameter)\n",
    "# answer = 18 \n",
    "print(diameter)"
   ]
  },
  {
   "cell_type": "markdown",
   "metadata": {},
   "source": [
    "Average shortest path"
   ]
  },
  {
   "cell_type": "code",
   "execution_count": null,
   "metadata": {},
   "outputs": [],
   "source": [
    "def avg_shortest_path():\n",
    "    avg_shortest_path = nx.average_shortest_path_length(G)\n",
    "    return avg_shortest_path\n",
    "avg_shortest_path = pickle(avg_shortest_path)\n",
    "avg_shortest_path\n",
    "\n",
    "# answer: 4.917269741932054"
   ]
  },
  {
   "cell_type": "markdown",
   "metadata": {},
   "source": [
    "Shortest path distribution "
   ]
  },
  {
   "cell_type": "code",
   "execution_count": null,
   "metadata": {},
   "outputs": [],
   "source": [
    "# Can't run it, I don't have enough memory - Ania\n",
    "\n",
    "\n",
    "def shortest_path_lengths():\n",
    "    # Calculate shortest path lengths\n",
    "    all_shortest_path_lengths = {}\n",
    "\n",
    "    for node in G.nodes:\n",
    "        shortest_path_lengths = nx.single_source_shortest_path_length(G, node)\n",
    "        all_shortest_path_lengths[node] = shortest_path_lengths\n",
    "    return all_shortest_path_lengths\n",
    "\n",
    "# Calculate shortest paths lengths for our grapgh and store in a pickle\n",
    "shortest_path_lengths = pickle(shortest_path_lengths)\n",
    "print(shortest_path_lengths)"
   ]
  },
  {
   "cell_type": "markdown",
   "metadata": {},
   "source": [
    "Betweenness centrality"
   ]
  },
  {
   "cell_type": "code",
   "execution_count": null,
   "metadata": {},
   "outputs": [],
   "source": [
    "def betweenness_centrality():\n",
    "    betweenness_centrality = nx.betweenness_centrality(G)\n",
    "    return betweenness_centrality\n",
    "betweenness_centrality = pickle(betweenness_centrality)\n",
    "betweenness_centrality\n"
   ]
  },
  {
   "cell_type": "code",
   "execution_count": null,
   "metadata": {},
   "outputs": [],
   "source": [
    "between_list = []\n",
    "for key, value in betweenness_centrality.items():\n",
    "    between_list.append((value))\n",
    "between_list\n"
   ]
  },
  {
   "cell_type": "code",
   "execution_count": null,
   "metadata": {},
   "outputs": [],
   "source": [
    "lists = sorted(betweenness_centrality.items()) # sorted by key, return a list of tuples\n",
    "\n",
    "x, y = zip(*lists) # unpack a list of pairs into two tuples\n",
    "\n",
    "\n",
    "\n",
    "\n",
    "# Add labels and title\n",
    "plt.xlabel('Betweenness centrality')\n",
    "plt.ylabel('Frequency')\n",
    "plt.title('Betweenness centrality distribution on Log-Log Scale')\n",
    "\n",
    "plt.hist(y, x, color = green)\n",
    "plt.show()"
   ]
  },
  {
   "cell_type": "markdown",
   "metadata": {},
   "source": [
    "Degree distribution dictionary"
   ]
  },
  {
   "cell_type": "code",
   "execution_count": null,
   "metadata": {},
   "outputs": [],
   "source": [
    "def sorted_degree():\n",
    "    degree_dict = dict(G.degree)\n",
    "    sorted_degree = (sorted(degree_dict.items(), key=lambda item: item[1], reverse = True))\n",
    "    return sorted_degree\n",
    "\n",
    "sorted_degree = pickle(sorted_degree)\n",
    "print(sorted_degree)"
   ]
  }
 ],
 "metadata": {
  "kernelspec": {
   "display_name": "Python 3",
   "language": "python",
   "name": "python3"
  },
  "language_info": {
   "codemirror_mode": {
    "name": "ipython",
    "version": 3
   },
   "file_extension": ".py",
   "mimetype": "text/x-python",
   "name": "python",
   "nbconvert_exporter": "python",
   "pygments_lexer": "ipython3",
   "version": "3.11.3"
  }
 },
 "nbformat": 4,
 "nbformat_minor": 2
}
