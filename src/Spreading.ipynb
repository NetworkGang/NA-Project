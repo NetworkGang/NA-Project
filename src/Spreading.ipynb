{
 "cells": [
  {
   "cell_type": "markdown",
   "metadata": {},
   "source": [
    "### Install & import dependencies"
   ]
  },
  {
   "cell_type": "code",
   "execution_count": 1,
   "metadata": {},
   "outputs": [
    {
     "name": "stdout",
     "output_type": "stream",
     "text": [
      "Note: you may need to restart the kernel to use updated packages.\n",
      "Note: you may need to restart the kernel to use updated packages.\n"
     ]
    }
   ],
   "source": [
    "%pip install ndlib --quiet\n",
    "%pip install matplotlib --quiet"
   ]
  },
  {
   "cell_type": "code",
   "execution_count": 2,
   "metadata": {},
   "outputs": [],
   "source": [
    "import networkx as nx\n",
    "from custommodels.SpreadingModels import CascadeModel, ThresholdModel\n",
    "from custommodels.Pickle import pickle, load\n",
    "import random\n",
    "import matplotlib.pyplot as plt\n",
    "import numpy as np"
   ]
  },
  {
   "cell_type": "markdown",
   "metadata": {},
   "source": [
    "### Load data"
   ]
  },
  {
   "cell_type": "code",
   "execution_count": 3,
   "metadata": {},
   "outputs": [],
   "source": [
    "path = \"../data/loc-brightkite_edges.txt.gz\"\n",
    "G = nx.read_edgelist(path, create_using=nx.Graph())\n",
    "largest_cc = max(nx.connected_components(G), key=len)\n",
    "len(largest_cc)\n",
    "G = G.subgraph(largest_cc)"
   ]
  },
  {
   "cell_type": "markdown",
   "metadata": {},
   "source": [
    "# Step 2. Make the disease spread on all four models"
   ]
  },
  {
   "cell_type": "markdown",
   "metadata": {},
   "source": [
    "1. Adding the the code for the models (threshold and cascade) and the code to import the pickle with degree and betweeness\n"
   ]
  },
  {
   "cell_type": "markdown",
   "metadata": {},
   "source": [
    "### Highest degree nodes:"
   ]
  },
  {
   "cell_type": "code",
   "execution_count": 4,
   "metadata": {},
   "outputs": [
    {
     "name": "stdout",
     "output_type": "stream",
     "text": [
      "Found data, loading from picklejar\n"
     ]
    }
   ],
   "source": [
    "sorted_degree_list = load(\"sorted_degree\")"
   ]
  },
  {
   "cell_type": "code",
   "execution_count": 5,
   "metadata": {},
   "outputs": [],
   "source": [
    "def top_degree_nodes_percent(percentage):\n",
    "    top_degree_nodes = []\n",
    "    n_selected = int(len(sorted_degree_list)*percentage)\n",
    "    for b in sorted_degree_list[:n_selected]:\n",
    "\n",
    "        top_degree_nodes.append(str(b[0]))\n",
    "    return top_degree_nodes\n",
    "\n",
    "def top_degree_nodes_n(n):\n",
    "    top_degree_nodes = []\n",
    "    for b in sorted_degree_list[:n]:\n",
    "        top_degree_nodes.append(str(b[0]))\n",
    "    return top_degree_nodes"
   ]
  },
  {
   "cell_type": "markdown",
   "metadata": {},
   "source": [
    "### Highest betweeness centrality nodes:"
   ]
  },
  {
   "cell_type": "code",
   "execution_count": 6,
   "metadata": {},
   "outputs": [
    {
     "name": "stdout",
     "output_type": "stream",
     "text": [
      "Found data, loading from picklejar\n"
     ]
    }
   ],
   "source": [
    "betweenness = (load(\"betweenness_centrality\"))\n",
    "betweenness = list(betweenness.items())\n",
    "sorted_betweenness = sorted(betweenness, key=lambda x: x[1], reverse=True)\n"
   ]
  },
  {
   "cell_type": "code",
   "execution_count": 7,
   "metadata": {},
   "outputs": [],
   "source": [
    "def top_betweenness_nodes_percent(percentage):\n",
    "    top_betweenness_nodes = []\n",
    "    n_selected = int(len(sorted_betweenness)*percentage)\n",
    "    for b in sorted_betweenness[:n_selected]:\n",
    "\n",
    "        top_betweenness_nodes.append(str(b[0]))\n",
    "    return top_betweenness_nodes\n",
    "\n",
    "def top_betweenness_nodes_n(n):\n",
    "    top_betweenness_nodes = []\n",
    "    for b in sorted_betweenness[:n]:\n",
    "\n",
    "        top_betweenness_nodes.append(str(b[0]))\n",
    "    return top_betweenness_nodes"
   ]
  },
  {
   "cell_type": "code",
   "execution_count": 8,
   "metadata": {},
   "outputs": [],
   "source": [
    "def random_nodes_percent(percentage):\n",
    "    random_nodes = []\n",
    "    nodes = list(G.nodes()).copy()\n",
    "    n_selected = int(len(nodes)*percentage)\n",
    "    for b in random.sample(nodes, n_selected):\n",
    "        random_nodes.append(str(b))\n",
    "    return random_nodes\n",
    "def random_nodes_n(n):\n",
    "    random_nodes = []\n",
    "    nodes = list(G.nodes()).copy()\n",
    "    for b in random.sample(nodes, n):\n",
    "        random_nodes.append(str(b))\n",
    "    return random_nodes"
   ]
  },
  {
   "cell_type": "code",
   "execution_count": 9,
   "metadata": {},
   "outputs": [],
   "source": [
    "def n_to_percent(n):\n",
    "    tot_nodes = len(G.nodes())\n",
    "    return n/tot_nodes"
   ]
  },
  {
   "cell_type": "code",
   "execution_count": 10,
   "metadata": {},
   "outputs": [],
   "source": [
    "def plot_resulst(results, num_initial_infected):\n",
    "    final_sus = list(results[-1][0].values()).count(0)\n",
    "    final_inf = list(results[-1][0].values()).count(1)\n",
    "    final_rec = list(results[-1][0].values()).count(2)\n",
    "    print(f\"Final susceptible: {final_sus}\")\n",
    "    print(f\"Final infected: {final_inf}\")\n",
    "    print(f\"Final recovered: {final_rec}\")\n",
    "    # Plotting  the graph\n",
    "    num_susceptible = [len(G.nodes) - num_initial_infected]\n",
    "    num_infected = [num_initial_infected]\n",
    "    num_recovered = [0]\n",
    "    for state, i, r in results:\n",
    "        num_susceptible.append(list(state.values()).count(0))\n",
    "        num_infected.append(list(state.values()).count(1))\n",
    "        num_recovered.append(list(state.values()).count(2))\n",
    "\n",
    "    num_susceptible = np.array(num_susceptible)\n",
    "    num_infected = np.array(num_infected)\n",
    "    num_recovered = np.array(num_recovered)\n",
    "\n",
    "    # get proportion\n",
    "    prop_susceptible = num_susceptible / len(G.nodes)\n",
    "    prop_infected = num_infected / len(G.nodes)\n",
    "    prop_recovered = num_recovered / len(G.nodes)\n",
    "\n",
    "    plt.plot(prop_susceptible, label=\"Susceptible\", color=\"blue\")\n",
    "    plt.plot(prop_infected, label=\"Infected\", color=\"red\")\n",
    "    plt.plot(prop_recovered, label=\"Recovered\", color=\"green\")\n",
    "    plt.legend()\n",
    "    plt.xlabel(\"Time\")\n",
    "    plt.ylabel(\"Number of nodes\")\n",
    "    plt.show()"
   ]
  },
  {
   "cell_type": "markdown",
   "metadata": {},
   "source": [
    "## Cascade model infecting top X highest degree nodes "
   ]
  },
  {
   "cell_type": "code",
   "execution_count": 11,
   "metadata": {},
   "outputs": [
    {
     "name": "stdout",
     "output_type": "stream",
     "text": [
      "Final susceptible: 255\n",
      "Final infected: 6218\n",
      "Final recovered: 50266\n"
     ]
    },
    {
     "data": {
      "image/png": "[encoded data removed]",
      "text/plain": [
       "<Figure size 640x480 with 1 Axes>"
      ]
     },
     "metadata": {},
     "output_type": "display_data"
    }
   ],
   "source": [
    "model = CascadeModel(G)\n",
    "beta, gamma = 0.15, 0.05\n",
    "model.set_parameters(beta, gamma)\n",
    "\n",
    "n = 10\n",
    "p = 0.1\n",
    "initial_infected = top_degree_nodes_n(n)\n",
    "\n",
    "model.set_initial_infected(initial_infected)\n",
    "results = model.iterate(50)\n",
    "# Print end result\n",
    "plot_resulst(results, len(initial_infected))"
   ]
  },
  {
   "cell_type": "markdown",
   "metadata": {},
   "source": [
    "## Threshold model infecting top X highest degree nodes "
   ]
  },
  {
   "cell_type": "code",
   "execution_count": 13,
   "metadata": {},
   "outputs": [
    {
     "name": "stdout",
     "output_type": "stream",
     "text": [
      "Final susceptible: 50194\n",
      "Final infected: 1254\n",
      "Final recovered: 5291\n"
     ]
    },
    {
     "data": {
      "image/png": "[encoded data removed]",
      "text/plain": [
       "<Figure size 640x480 with 1 Axes>"
      ]
     },
     "metadata": {},
     "output_type": "display_data"
    }
   ],
   "source": [
    "model = ThresholdModel(G)\n",
    "theta, beta, gamma = 5, 0.15, 0.05\n",
    "model.set_parameters(theta, beta, gamma)\n",
    "\n",
    "n = 10\n",
    "p = 0.1\n",
    "initial_infected = top_degree_nodes_n(n)\n",
    "\n",
    "model.set_initial_infected(initial_infected)\n",
    "results = model.iterate(50)\n",
    "# Print end result\n",
    "plot_resulst(results, len(initial_infected))"
   ]
  },
  {
   "cell_type": "markdown",
   "metadata": {},
   "source": [
    "## Cascade model with top 10% highest betweeness centrality nodes"
   ]
  },
  {
   "cell_type": "code",
   "execution_count": 12,
   "metadata": {},
   "outputs": [
    {
     "ename": "NameError",
     "evalue": "name 'top_betweenness_nodes' is not defined",
     "output_type": "error",
     "traceback": [
      "\u001b[0;31m---------------------------------------------------------------------------\u001b[0m",
      "\u001b[0;31mNameError\u001b[0m                                 Traceback (most recent call last)",
      "\u001b[1;32m/home/color/ITU/Repos/NA-Project/src/Spreading.ipynb Cell 21\u001b[0m line \u001b[0;36m6\n\u001b[1;32m      <a href='vscode-notebook-cell:/home/color/ITU/Repos/NA-Project/src/Spreading.ipynb#X26sZmlsZQ%3D%3D?line=3'>4</a>\u001b[0m \u001b[39m# Get random 1% of nodes as initial infected\u001b[39;00m\n\u001b[1;32m      <a href='vscode-notebook-cell:/home/color/ITU/Repos/NA-Project/src/Spreading.ipynb#X26sZmlsZQ%3D%3D?line=4'>5</a>\u001b[0m percentage \u001b[39m=\u001b[39m \u001b[39m0.05\u001b[39m\n\u001b[0;32m----> <a href='vscode-notebook-cell:/home/color/ITU/Repos/NA-Project/src/Spreading.ipynb#X26sZmlsZQ%3D%3D?line=5'>6</a>\u001b[0m initial_infected \u001b[39m=\u001b[39m top_betweenness_nodes\n\u001b[1;32m      <a href='vscode-notebook-cell:/home/color/ITU/Repos/NA-Project/src/Spreading.ipynb#X26sZmlsZQ%3D%3D?line=6'>7</a>\u001b[0m cascade_degree\u001b[39m.\u001b[39mset_initial_infected(initial_infected)\n\u001b[1;32m      <a href='vscode-notebook-cell:/home/color/ITU/Repos/NA-Project/src/Spreading.ipynb#X26sZmlsZQ%3D%3D?line=7'>8</a>\u001b[0m results \u001b[39m=\u001b[39m cascade_degree\u001b[39m.\u001b[39miterate(\u001b[39m40\u001b[39m)\n",
      "\u001b[0;31mNameError\u001b[0m: name 'top_betweenness_nodes' is not defined"
     ]
    }
   ],
   "source": [
    "cascade_degree = CascadeModel(G)\n",
    "beta, gamma = 0.21204, 0.1\n",
    "cascade_degree.set_parameters(beta, gamma)\n",
    "# Get random 1% of nodes as initial infected\n",
    "percentage = 0.05\n",
    "initial_infected = top_betweenness_nodes\n",
    "cascade_degree.set_initial_infected(initial_infected)\n",
    "results = cascade_degree.iterate(40)\n",
    "\n",
    "# Info\n",
    "# Number at final step\n",
    "final_sus = list(results[-1][0].values()).count(0)\n",
    "final_inf = list(results[-1][0].values()).count(1)\n",
    "final_rec = list(results[-1][0].values()).count(2)\n",
    "print(f\"Final susceptible: {final_sus}\")\n",
    "print(f\"Final infected: {final_inf}\")\n",
    "print(f\"Final recovered: {final_rec}\")"
   ]
  },
  {
   "cell_type": "code",
   "execution_count": null,
   "metadata": {},
   "outputs": [],
   "source": [
    "# Plotting  the graph\n",
    "num_susceptible = [len(G.nodes) - len(initial_infected)]\n",
    "num_infected = [len(initial_infected)]\n",
    "num_recovered = [0]\n",
    "for state, i, r in results:\n",
    "    num_susceptible.append(list(state.values()).count(0))\n",
    "    num_infected.append(list(state.values()).count(1))\n",
    "    num_recovered.append(list(state.values()).count(2))\n",
    "\n",
    "num_susceptible = np.array(num_susceptible)\n",
    "num_infected = np.array(num_infected)\n",
    "num_recovered = np.array(num_recovered)\n",
    "# print(num_susceptible, num_infected, num_recovered)\n",
    "\n",
    "# get proportion\n",
    "prop_susceptible = num_susceptible / len(G.nodes)\n",
    "prop_infected = num_infected / len(G.nodes)\n",
    "prop_recovered = num_recovered / len(G.nodes)\n",
    "\n",
    "plt.plot(prop_susceptible, label=\"Susceptible\", color=\"blue\")\n",
    "plt.plot(prop_infected, label=\"Infected\", color=\"red\")\n",
    "plt.plot(prop_recovered, label=\"Recovered\", color=\"green\")\n",
    "plt.legend()\n",
    "plt.xlabel(\"Time\")\n",
    "plt.ylabel(\"Number of nodes\")\n",
    "plt.show()"
   ]
  },
  {
   "cell_type": "markdown",
   "metadata": {},
   "source": [
    "## Threshold model with top 10% highest betweeness centrality nodes"
   ]
  },
  {
   "cell_type": "code",
   "execution_count": null,
   "metadata": {},
   "outputs": [],
   "source": [
    "model = ThresholdModel(G)\n",
    "theta, gamma = 0.21204, 0.1\n",
    "model.set_parameters(theta, gamma)\n",
    "# Initial infected\n",
    "percentage = 0.01\n",
    "initial_infected = top_betweenness_nodes\n",
    "model.set_initial_infected(initial_infected)\n",
    "results = model.iterate(40)\n",
    "\n",
    "# Info\n",
    "# Number at final step\n",
    "final_sus = list(results[-1][0].values()).count(0)\n",
    "final_inf = list(results[-1][0].values()).count(1)\n",
    "final_rec = list(results[-1][0].values()).count(2)\n",
    "print(f\"Final susceptible: {final_sus}\")\n",
    "print(f\"Final infected: {final_inf}\")\n",
    "print(f\"Final recovered: {final_rec}\")"
   ]
  },
  {
   "cell_type": "code",
   "execution_count": null,
   "metadata": {},
   "outputs": [],
   "source": [
    "# Plotting  the graph\n",
    "num_susceptible = [len(G.nodes) - len(initial_infected)]\n",
    "num_infected = [len(initial_infected)]\n",
    "num_recovered = [0]\n",
    "for state, i, r in results:\n",
    "    num_susceptible.append(list(state.values()).count(0))\n",
    "    num_infected.append(list(state.values()).count(1))\n",
    "    num_recovered.append(list(state.values()).count(2))\n",
    "\n",
    "num_susceptible = np.array(num_susceptible)\n",
    "num_infected = np.array(num_infected)\n",
    "num_recovered = np.array(num_recovered)\n",
    "# print(num_susceptible, num_infected, num_recovered)\n",
    "\n",
    "# get proportion\n",
    "prop_susceptible = num_susceptible / len(G.nodes)\n",
    "prop_infected = num_infected / len(G.nodes)\n",
    "prop_recovered = num_recovered / len(G.nodes)\n",
    "\n",
    "plt.plot(prop_susceptible, label=\"Susceptible\", color=\"blue\")\n",
    "plt.plot(prop_infected, label=\"Infected\", color=\"red\")\n",
    "plt.plot(prop_recovered, label=\"Recovered\", color=\"green\")\n",
    "plt.legend()\n",
    "plt.xlabel(\"Time\")\n",
    "plt.ylabel(\"Number of nodes\")\n",
    "plt.show()"
   ]
  }
 ],
 "metadata": {
  "kernelspec": {
   "display_name": "Python 3 (ipykernel)",
   "language": "python",
   "name": "python3"
  },
  "language_info": {
   "codemirror_mode": {
    "name": "ipython",
    "version": 3
   },
   "file_extension": ".py",
   "mimetype": "text/x-python",
   "name": "python",
   "nbconvert_exporter": "python",
   "pygments_lexer": "ipython3",
   "version": "3.10.13"
  }
 },
 "nbformat": 4,
 "nbformat_minor": 4
}
