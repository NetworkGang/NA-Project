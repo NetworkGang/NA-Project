{
 "cells": [
  {
   "cell_type": "markdown",
   "metadata": {},
   "source": [
    "### Install & import dependencies"
   ]
  },
  {
   "cell_type": "code",
   "execution_count": 1,
   "metadata": {},
   "outputs": [
    {
     "name": "stdout",
     "output_type": "stream",
     "text": [
      "Note: you may need to restart the kernel to use updated packages.\n"
     ]
    },
    {
     "name": "stderr",
     "output_type": "stream",
     "text": [
      "WARNING: Ignoring invalid distribution -yzmq (\\\\truenas\\storage\\schoolwork\\itu\\repos\\na-project\\.conda\\lib\\site-packages)\n",
      "WARNING: Ignoring invalid distribution -yzmq (\\\\truenas\\storage\\schoolwork\\itu\\repos\\na-project\\.conda\\lib\\site-packages)\n"
     ]
    }
   ],
   "source": [
    "%pip install ndlib --quiet"
   ]
  },
  {
   "cell_type": "code",
   "execution_count": 2,
   "metadata": {},
   "outputs": [],
   "source": [
    "import networkx as nx\n",
    "import ndlib.models.ModelConfig as mc\n",
    "import ndlib.models.epidemics as ep"
   ]
  },
  {
   "cell_type": "markdown",
   "metadata": {},
   "source": [
    "### Load data"
   ]
  },
  {
   "cell_type": "code",
   "execution_count": 3,
   "metadata": {},
   "outputs": [],
   "source": [
    "path = \"../data/loc-brightkite_edges.txt.gz\"\n",
    "G = nx.read_edgelist(path, create_using=nx.Graph(), nodetype=int)"
   ]
  },
  {
   "cell_type": "markdown",
   "metadata": {},
   "source": [
    "### Threshold\n",
    "Setup"
   ]
  },
  {
   "cell_type": "code",
   "execution_count": 4,
   "metadata": {},
   "outputs": [],
   "source": [
    "model = ep.ThresholdModel(G)\n",
    "\n",
    "config = mc.Configuration()\n",
    "# How many nodes to infect initially\n",
    "# you can also set individual nodes to be infected by adding a node configuration\n",
    "# See https://ndlib.readthedocs.io/en/latest/reference/models/epidemics/Threshold.html#parameters\n",
    "config.add_model_parameter('fraction_infected', 0.1)\n",
    "threshold = 0.25\n",
    "for n in G.nodes():\n",
    "    config.add_node_configuration(\"threshold\", n, threshold)\n",
    "model.set_initial_status(config)"
   ]
  },
  {
   "cell_type": "markdown",
   "metadata": {},
   "source": [
    "Simulation"
   ]
  },
  {
   "cell_type": "code",
   "execution_count": 5,
   "metadata": {},
   "outputs": [],
   "source": [
    "iterations = model.iteration_bunch(200)"
   ]
  },
  {
   "cell_type": "code",
   "execution_count": 11,
   "metadata": {},
   "outputs": [
    {
     "name": "stdout",
     "output_type": "stream",
     "text": [
      "Iteration 0: 5822 newly infected nodes (10.0%)\n",
      "Iteration 1: 7505 newly infected nodes (12.9%)\n",
      "Iteration 2: 4342 newly infected nodes (7.5%)\n",
      "Iteration 3: 5324 newly infected nodes (9.1%)\n",
      "Iteration 4: 7825 newly infected nodes (13.4%)\n",
      "Iteration 5: 11883 newly infected nodes (20.4%)\n",
      "Iteration 6: 9619 newly infected nodes (16.5%)\n",
      "Iteration 7: 3418 newly infected nodes (5.9%)\n",
      "Iteration 8: 765 newly infected nodes (1.3%)\n",
      "Iteration 9: 173 newly infected nodes (0.3%)\n",
      "Iteration 10: 49 newly infected nodes (0.1%)\n",
      "Iteration 11: 17 newly infected nodes (0.0%)\n",
      "Iteration 12: 4 newly infected nodes (0.0%)\n",
      "Iteration 13: 0 newly infected nodes (0.0%)\n",
      "Iteration 14: 0 newly infected nodes (0.0%)\n",
      "Iteration 15: 0 newly infected nodes (0.0%)\n",
      "Iteration 16: 0 newly infected nodes (0.0%)\n",
      "Iteration 17: 0 newly infected nodes (0.0%)\n",
      "Iteration 18: 0 newly infected nodes (0.0%)\n",
      "Iteration 19: 0 newly infected nodes (0.0%)\n",
      "Iteration 20: 0 newly infected nodes (0.0%)\n",
      "Iteration 21: 0 newly infected nodes (0.0%)\n",
      "Iteration 22: 0 newly infected nodes (0.0%)\n",
      "Iteration 23: 0 newly infected nodes (0.0%)\n",
      "Iteration 24: 0 newly infected nodes (0.0%)\n",
      "Iteration 25: 0 newly infected nodes (0.0%)\n",
      "Iteration 26: 0 newly infected nodes (0.0%)\n",
      "Iteration 27: 0 newly infected nodes (0.0%)\n",
      "Iteration 28: 0 newly infected nodes (0.0%)\n",
      "Iteration 29: 0 newly infected nodes (0.0%)\n",
      "Iteration 30: 0 newly infected nodes (0.0%)\n",
      "Iteration 31: 0 newly infected nodes (0.0%)\n",
      "Iteration 32: 0 newly infected nodes (0.0%)\n",
      "Iteration 33: 0 newly infected nodes (0.0%)\n",
      "Iteration 34: 0 newly infected nodes (0.0%)\n",
      "Iteration 35: 0 newly infected nodes (0.0%)\n",
      "Iteration 36: 0 newly infected nodes (0.0%)\n",
      "Iteration 37: 0 newly infected nodes (0.0%)\n",
      "Iteration 38: 0 newly infected nodes (0.0%)\n",
      "Iteration 39: 0 newly infected nodes (0.0%)\n",
      "Iteration 40: 0 newly infected nodes (0.0%)\n",
      "Iteration 41: 0 newly infected nodes (0.0%)\n",
      "Iteration 42: 0 newly infected nodes (0.0%)\n",
      "Iteration 43: 0 newly infected nodes (0.0%)\n",
      "Iteration 44: 0 newly infected nodes (0.0%)\n",
      "Iteration 45: 0 newly infected nodes (0.0%)\n",
      "Iteration 46: 0 newly infected nodes (0.0%)\n",
      "Iteration 47: 0 newly infected nodes (0.0%)\n",
      "Iteration 48: 0 newly infected nodes (0.0%)\n",
      "Iteration 49: 0 newly infected nodes (0.0%)\n",
      "Iteration 50: 0 newly infected nodes (0.0%)\n",
      "Iteration 51: 0 newly infected nodes (0.0%)\n",
      "Iteration 52: 0 newly infected nodes (0.0%)\n",
      "Iteration 53: 0 newly infected nodes (0.0%)\n",
      "Iteration 54: 0 newly infected nodes (0.0%)\n",
      "Iteration 55: 0 newly infected nodes (0.0%)\n",
      "Iteration 56: 0 newly infected nodes (0.0%)\n",
      "Iteration 57: 0 newly infected nodes (0.0%)\n",
      "Iteration 58: 0 newly infected nodes (0.0%)\n",
      "Iteration 59: 0 newly infected nodes (0.0%)\n",
      "Iteration 60: 0 newly infected nodes (0.0%)\n",
      "Iteration 61: 0 newly infected nodes (0.0%)\n",
      "Iteration 62: 0 newly infected nodes (0.0%)\n",
      "Iteration 63: 0 newly infected nodes (0.0%)\n",
      "Iteration 64: 0 newly infected nodes (0.0%)\n",
      "Iteration 65: 0 newly infected nodes (0.0%)\n",
      "Iteration 66: 0 newly infected nodes (0.0%)\n",
      "Iteration 67: 0 newly infected nodes (0.0%)\n",
      "Iteration 68: 0 newly infected nodes (0.0%)\n",
      "Iteration 69: 0 newly infected nodes (0.0%)\n",
      "Iteration 70: 0 newly infected nodes (0.0%)\n",
      "Iteration 71: 0 newly infected nodes (0.0%)\n",
      "Iteration 72: 0 newly infected nodes (0.0%)\n",
      "Iteration 73: 0 newly infected nodes (0.0%)\n",
      "Iteration 74: 0 newly infected nodes (0.0%)\n",
      "Iteration 75: 0 newly infected nodes (0.0%)\n",
      "Iteration 76: 0 newly infected nodes (0.0%)\n",
      "Iteration 77: 0 newly infected nodes (0.0%)\n",
      "Iteration 78: 0 newly infected nodes (0.0%)\n",
      "Iteration 79: 0 newly infected nodes (0.0%)\n",
      "Iteration 80: 0 newly infected nodes (0.0%)\n",
      "Iteration 81: 0 newly infected nodes (0.0%)\n",
      "Iteration 82: 0 newly infected nodes (0.0%)\n",
      "Iteration 83: 0 newly infected nodes (0.0%)\n",
      "Iteration 84: 0 newly infected nodes (0.0%)\n",
      "Iteration 85: 0 newly infected nodes (0.0%)\n",
      "Iteration 86: 0 newly infected nodes (0.0%)\n",
      "Iteration 87: 0 newly infected nodes (0.0%)\n",
      "Iteration 88: 0 newly infected nodes (0.0%)\n",
      "Iteration 89: 0 newly infected nodes (0.0%)\n",
      "Iteration 90: 0 newly infected nodes (0.0%)\n",
      "Iteration 91: 0 newly infected nodes (0.0%)\n",
      "Iteration 92: 0 newly infected nodes (0.0%)\n",
      "Iteration 93: 0 newly infected nodes (0.0%)\n",
      "Iteration 94: 0 newly infected nodes (0.0%)\n",
      "Iteration 95: 0 newly infected nodes (0.0%)\n",
      "Iteration 96: 0 newly infected nodes (0.0%)\n",
      "Iteration 97: 0 newly infected nodes (0.0%)\n",
      "Iteration 98: 0 newly infected nodes (0.0%)\n",
      "Iteration 99: 0 newly infected nodes (0.0%)\n",
      "Iteration 100: 0 newly infected nodes (0.0%)\n",
      "Iteration 101: 0 newly infected nodes (0.0%)\n",
      "Iteration 102: 0 newly infected nodes (0.0%)\n",
      "Iteration 103: 0 newly infected nodes (0.0%)\n",
      "Iteration 104: 0 newly infected nodes (0.0%)\n",
      "Iteration 105: 0 newly infected nodes (0.0%)\n",
      "Iteration 106: 0 newly infected nodes (0.0%)\n",
      "Iteration 107: 0 newly infected nodes (0.0%)\n",
      "Iteration 108: 0 newly infected nodes (0.0%)\n",
      "Iteration 109: 0 newly infected nodes (0.0%)\n",
      "Iteration 110: 0 newly infected nodes (0.0%)\n",
      "Iteration 111: 0 newly infected nodes (0.0%)\n",
      "Iteration 112: 0 newly infected nodes (0.0%)\n",
      "Iteration 113: 0 newly infected nodes (0.0%)\n",
      "Iteration 114: 0 newly infected nodes (0.0%)\n",
      "Iteration 115: 0 newly infected nodes (0.0%)\n",
      "Iteration 116: 0 newly infected nodes (0.0%)\n",
      "Iteration 117: 0 newly infected nodes (0.0%)\n",
      "Iteration 118: 0 newly infected nodes (0.0%)\n",
      "Iteration 119: 0 newly infected nodes (0.0%)\n",
      "Iteration 120: 0 newly infected nodes (0.0%)\n",
      "Iteration 121: 0 newly infected nodes (0.0%)\n",
      "Iteration 122: 0 newly infected nodes (0.0%)\n",
      "Iteration 123: 0 newly infected nodes (0.0%)\n",
      "Iteration 124: 0 newly infected nodes (0.0%)\n",
      "Iteration 125: 0 newly infected nodes (0.0%)\n",
      "Iteration 126: 0 newly infected nodes (0.0%)\n",
      "Iteration 127: 0 newly infected nodes (0.0%)\n",
      "Iteration 128: 0 newly infected nodes (0.0%)\n",
      "Iteration 129: 0 newly infected nodes (0.0%)\n",
      "Iteration 130: 0 newly infected nodes (0.0%)\n",
      "Iteration 131: 0 newly infected nodes (0.0%)\n",
      "Iteration 132: 0 newly infected nodes (0.0%)\n",
      "Iteration 133: 0 newly infected nodes (0.0%)\n",
      "Iteration 134: 0 newly infected nodes (0.0%)\n",
      "Iteration 135: 0 newly infected nodes (0.0%)\n",
      "Iteration 136: 0 newly infected nodes (0.0%)\n",
      "Iteration 137: 0 newly infected nodes (0.0%)\n",
      "Iteration 138: 0 newly infected nodes (0.0%)\n",
      "Iteration 139: 0 newly infected nodes (0.0%)\n",
      "Iteration 140: 0 newly infected nodes (0.0%)\n",
      "Iteration 141: 0 newly infected nodes (0.0%)\n",
      "Iteration 142: 0 newly infected nodes (0.0%)\n",
      "Iteration 143: 0 newly infected nodes (0.0%)\n",
      "Iteration 144: 0 newly infected nodes (0.0%)\n",
      "Iteration 145: 0 newly infected nodes (0.0%)\n",
      "Iteration 146: 0 newly infected nodes (0.0%)\n",
      "Iteration 147: 0 newly infected nodes (0.0%)\n",
      "Iteration 148: 0 newly infected nodes (0.0%)\n",
      "Iteration 149: 0 newly infected nodes (0.0%)\n",
      "Iteration 150: 0 newly infected nodes (0.0%)\n",
      "Iteration 151: 0 newly infected nodes (0.0%)\n",
      "Iteration 152: 0 newly infected nodes (0.0%)\n",
      "Iteration 153: 0 newly infected nodes (0.0%)\n",
      "Iteration 154: 0 newly infected nodes (0.0%)\n",
      "Iteration 155: 0 newly infected nodes (0.0%)\n",
      "Iteration 156: 0 newly infected nodes (0.0%)\n",
      "Iteration 157: 0 newly infected nodes (0.0%)\n",
      "Iteration 158: 0 newly infected nodes (0.0%)\n",
      "Iteration 159: 0 newly infected nodes (0.0%)\n",
      "Iteration 160: 0 newly infected nodes (0.0%)\n",
      "Iteration 161: 0 newly infected nodes (0.0%)\n",
      "Iteration 162: 0 newly infected nodes (0.0%)\n",
      "Iteration 163: 0 newly infected nodes (0.0%)\n",
      "Iteration 164: 0 newly infected nodes (0.0%)\n",
      "Iteration 165: 0 newly infected nodes (0.0%)\n",
      "Iteration 166: 0 newly infected nodes (0.0%)\n",
      "Iteration 167: 0 newly infected nodes (0.0%)\n",
      "Iteration 168: 0 newly infected nodes (0.0%)\n",
      "Iteration 169: 0 newly infected nodes (0.0%)\n",
      "Iteration 170: 0 newly infected nodes (0.0%)\n",
      "Iteration 171: 0 newly infected nodes (0.0%)\n",
      "Iteration 172: 0 newly infected nodes (0.0%)\n",
      "Iteration 173: 0 newly infected nodes (0.0%)\n",
      "Iteration 174: 0 newly infected nodes (0.0%)\n",
      "Iteration 175: 0 newly infected nodes (0.0%)\n",
      "Iteration 176: 0 newly infected nodes (0.0%)\n",
      "Iteration 177: 0 newly infected nodes (0.0%)\n",
      "Iteration 178: 0 newly infected nodes (0.0%)\n",
      "Iteration 179: 0 newly infected nodes (0.0%)\n",
      "Iteration 180: 0 newly infected nodes (0.0%)\n",
      "Iteration 181: 0 newly infected nodes (0.0%)\n",
      "Iteration 182: 0 newly infected nodes (0.0%)\n",
      "Iteration 183: 0 newly infected nodes (0.0%)\n",
      "Iteration 184: 0 newly infected nodes (0.0%)\n",
      "Iteration 185: 0 newly infected nodes (0.0%)\n",
      "Iteration 186: 0 newly infected nodes (0.0%)\n",
      "Iteration 187: 0 newly infected nodes (0.0%)\n",
      "Iteration 188: 0 newly infected nodes (0.0%)\n",
      "Iteration 189: 0 newly infected nodes (0.0%)\n",
      "Iteration 190: 0 newly infected nodes (0.0%)\n",
      "Iteration 191: 0 newly infected nodes (0.0%)\n",
      "Iteration 192: 0 newly infected nodes (0.0%)\n",
      "Iteration 193: 0 newly infected nodes (0.0%)\n",
      "Iteration 194: 0 newly infected nodes (0.0%)\n",
      "Iteration 195: 0 newly infected nodes (0.0%)\n",
      "Iteration 196: 0 newly infected nodes (0.0%)\n",
      "Iteration 197: 0 newly infected nodes (0.0%)\n",
      "Iteration 198: 0 newly infected nodes (0.0%)\n",
      "Iteration 199: 0 newly infected nodes (0.0%)\n"
     ]
    }
   ],
   "source": [
    "for it in iterations:\n",
    "    i = it['iteration']\n",
    "    num_infected = sum(it['status'].values())\n",
    "    print(f\"Iteration {i}: {num_infected} newly infected nodes ({num_infected/len(G)*100:.1f}%)\")"
   ]
  }
 ],
 "metadata": {
  "kernelspec": {
   "display_name": "Python 3 (ipykernel)",
   "language": "python",
   "name": "python3"
  },
  "language_info": {
   "codemirror_mode": {
    "name": "ipython",
    "version": 3
   },
   "file_extension": ".py",
   "mimetype": "text/x-python",
   "name": "python",
   "nbconvert_exporter": "python",
   "pygments_lexer": "ipython3",
   "version": "3.10.13"
  }
 },
 "nbformat": 4,
 "nbformat_minor": 4
}
